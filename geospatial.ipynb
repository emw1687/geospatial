{
 "cells": [
  {
   "cell_type": "markdown",
   "metadata": {},
   "source": [
    "Data sources:\n",
    "* [Level 3 Parcels](http://www.mass.gov/anf/research-and-tech/it-serv-and-support/application-serv/office-of-geographic-information-massgis/datalayers/l3parcels.html)\n",
    "* [Counties](http://www.mass.gov/anf/research-and-tech/it-serv-and-support/application-serv/office-of-geographic-information-massgis/datalayers/counties.html)\n",
    "* [Schools](http://www.mass.gov/anf/research-and-tech/it-serv-and-support/application-serv/office-of-geographic-information-massgis/datalayers/schools.html)"
   ]
  },
  {
   "cell_type": "code",
   "execution_count": 1,
   "metadata": {
    "collapsed": false
   },
   "outputs": [
    {
     "name": "stdout",
     "output_type": "stream",
     "text": [
      "-rwxr-xr-x@ 1 evaward  staff   7.2M Nov 20  2014 \u001b[31mdata/counties/COUNTIESSURVEY_ARC.shp\u001b[m\u001b[m\r\n",
      "-rwxr-xr-x@ 1 evaward  staff   7.3M Nov 20  2014 \u001b[31mdata/counties/COUNTIESSURVEY_POLYM.shp\u001b[m\u001b[m\r\n",
      "-rwxr-xr-x@ 1 evaward  staff   675K May 20  2003 \u001b[31mdata/counties/COUNTIES_ARC.shp\u001b[m\u001b[m\r\n",
      "-rwxr-xr-x@ 1 evaward  staff   771K May 20  2003 \u001b[31mdata/counties/COUNTIES_POLY.shp\u001b[m\u001b[m\r\n",
      "-rwxr-xr-x@ 1 evaward  staff   751K Aug  9  2007 \u001b[31mdata/counties/COUNTIES_POLYM.shp\u001b[m\u001b[m\r\n",
      "-rwxr-xr-x@ 1 evaward  staff   325K Jan 22  2011 \u001b[31mdata/counties/COUNTYNC_POLY.shp\u001b[m\u001b[m\r\n",
      "-rwxr-xr-x@ 1 evaward  staff   102M Dec 15 12:17 \u001b[31mdata/parcels/L3_MISC_POLY.shp\u001b[m\u001b[m\r\n",
      "-rwxr-xr-x@ 1 evaward  staff    82M Dec 15 12:18 \u001b[31mdata/parcels/L3_OTHLEG_POLY.shp\u001b[m\u001b[m\r\n",
      "-rwxr-xr-x@ 1 evaward  staff   8.6M Dec 15 12:18 \u001b[31mdata/parcels/L3_PARCEL_FTP_LINKS.shp\u001b[m\u001b[m\r\n",
      "-rwxr-xr-x@ 1 evaward  staff   1.1G Dec 15 14:41 \u001b[31mdata/parcels/L3_TAXPAR_POLY_ASSESS.shp\u001b[m\u001b[m\r\n",
      "-rwxr-xr-x@ 1 evaward  staff   8.4M Dec 15 12:18 \u001b[31mdata/parcels/L3_TOWNFY.shp\u001b[m\u001b[m\r\n",
      "-rwxr-xr-x@ 1 evaward  staff    69K Jan 23 12:29 \u001b[31mdata/schools/SCHOOLS_PT.shp\u001b[m\u001b[m\r\n"
     ]
    }
   ],
   "source": [
    "#shapefiles\n",
    "!ls -lh data/*/*.shp"
   ]
  },
  {
   "cell_type": "code",
   "execution_count": 2,
   "metadata": {
    "collapsed": true
   },
   "outputs": [],
   "source": [
    "import geopandas as gpd"
   ]
  },
  {
   "cell_type": "code",
   "execution_count": 3,
   "metadata": {
    "collapsed": true
   },
   "outputs": [],
   "source": [
    "#schools\n",
    "shp_schools = 'data/schools/SCHOOLS_PT.shp'\n",
    "\n",
    "#counties\n",
    "shp_counties = 'data/counties/COUNTIES_POLY.shp'"
   ]
  },
  {
   "cell_type": "code",
   "execution_count": 4,
   "metadata": {
    "collapsed": false
   },
   "outputs": [
    {
     "name": "stdout",
     "output_type": "stream",
     "text": [
      "CPU times: user 497 ms, sys: 12.3 ms, total: 509 ms\n",
      "Wall time: 508 ms\n"
     ]
    }
   ],
   "source": [
    "%time schools = gpd.read_file(shp_schools)"
   ]
  },
  {
   "cell_type": "code",
   "execution_count": 5,
   "metadata": {
    "collapsed": false
   },
   "outputs": [
    {
     "name": "stdout",
     "output_type": "stream",
     "text": [
      "CPU times: user 222 ms, sys: 3.98 ms, total: 226 ms\n",
      "Wall time: 225 ms\n"
     ]
    }
   ],
   "source": [
    "%time counties = gpd.read_file(shp_counties)"
   ]
  },
  {
   "cell_type": "code",
   "execution_count": 6,
   "metadata": {
    "collapsed": false
   },
   "outputs": [
    {
     "data": {
      "text/html": [
       "<div>\n",
       "<table border=\"1\" class=\"dataframe\">\n",
       "  <thead>\n",
       "    <tr style=\"text-align: right;\">\n",
       "      <th></th>\n",
       "      <th>ADDRESS</th>\n",
       "      <th>FAX</th>\n",
       "      <th>GRADES</th>\n",
       "      <th>NAME</th>\n",
       "      <th>PHONE</th>\n",
       "      <th>PRINCIPAL</th>\n",
       "      <th>SCHID</th>\n",
       "      <th>STATE</th>\n",
       "      <th>TOWN</th>\n",
       "      <th>TOWN_MAIL</th>\n",
       "      <th>TYPE</th>\n",
       "      <th>TYPE_DESC</th>\n",
       "      <th>TYPE_DESC2</th>\n",
       "      <th>ZIP</th>\n",
       "      <th>geometry</th>\n",
       "    </tr>\n",
       "  </thead>\n",
       "  <tbody>\n",
       "    <tr>\n",
       "      <th>0</th>\n",
       "      <td>120 Fisher Avenue</td>\n",
       "      <td>617-566-2373</td>\n",
       "      <td>05,06,07,08,09</td>\n",
       "      <td>Roxbury Preparatory Charter School</td>\n",
       "      <td>617-566-2361</td>\n",
       "      <td>Anna Hall</td>\n",
       "      <td>04840505</td>\n",
       "      <td>MA</td>\n",
       "      <td>BOSTON</td>\n",
       "      <td>Roxbury</td>\n",
       "      <td>CHA</td>\n",
       "      <td>Charter</td>\n",
       "      <td>None</td>\n",
       "      <td>02120</td>\n",
       "      <td>POINT (232543.25 897533.5885000005)</td>\n",
       "    </tr>\n",
       "    <tr>\n",
       "      <th>1</th>\n",
       "      <td>160 Joan Street</td>\n",
       "      <td>413-783-2555</td>\n",
       "      <td>K,01,02,03,04,05,06,07,08,09,10,11,12</td>\n",
       "      <td>Sabis International Charter School</td>\n",
       "      <td>413-783-2600</td>\n",
       "      <td>Karen Reuter</td>\n",
       "      <td>04410505</td>\n",
       "      <td>MA</td>\n",
       "      <td>SPRINGFIELD</td>\n",
       "      <td>Springfield</td>\n",
       "      <td>CHA</td>\n",
       "      <td>Charter</td>\n",
       "      <td>None</td>\n",
       "      <td>01129</td>\n",
       "      <td>POINT (118655.9209999964 875474.0989000015)</td>\n",
       "    </tr>\n",
       "    <tr>\n",
       "      <th>2</th>\n",
       "      <td>45 Congress Street</td>\n",
       "      <td>978-744-7246</td>\n",
       "      <td>06,07,08,09,10,11,12</td>\n",
       "      <td>Salem Academy Charter School</td>\n",
       "      <td>978-744-2105</td>\n",
       "      <td>Stephanie Callahan</td>\n",
       "      <td>04850485</td>\n",
       "      <td>MA</td>\n",
       "      <td>SALEM</td>\n",
       "      <td>Salem</td>\n",
       "      <td>CHA</td>\n",
       "      <td>Charter</td>\n",
       "      <td>None</td>\n",
       "      <td>01970</td>\n",
       "      <td>POINT (250203.3103 918751.5731999986)</td>\n",
       "    </tr>\n",
       "    <tr>\n",
       "      <th>3</th>\n",
       "      <td>51 Gage Street</td>\n",
       "      <td>508-713-0956</td>\n",
       "      <td>K,01,02,03,04,05,06,07,08</td>\n",
       "      <td>Seven Hills Charter School</td>\n",
       "      <td>508-799-7500</td>\n",
       "      <td>Michael Barth</td>\n",
       "      <td>04860105</td>\n",
       "      <td>MA</td>\n",
       "      <td>WORCESTER</td>\n",
       "      <td>Worcester</td>\n",
       "      <td>CHA</td>\n",
       "      <td>Charter</td>\n",
       "      <td>None</td>\n",
       "      <td>01605</td>\n",
       "      <td>POINT (176099.2556999996 890610.6473999992)</td>\n",
       "    </tr>\n",
       "    <tr>\n",
       "      <th>4</th>\n",
       "      <td>23 Leonard Street</td>\n",
       "      <td>617-474-7957</td>\n",
       "      <td>06,07,08</td>\n",
       "      <td>Helen Y Davis Leadership Academy Charter Publi...</td>\n",
       "      <td>617-474-7950</td>\n",
       "      <td>Karmala Sherwood</td>\n",
       "      <td>04190305</td>\n",
       "      <td>MA</td>\n",
       "      <td>BOSTON</td>\n",
       "      <td>Boston</td>\n",
       "      <td>CHA</td>\n",
       "      <td>Charter</td>\n",
       "      <td>None</td>\n",
       "      <td>02122</td>\n",
       "      <td>POINT (236389.9209999964 894627.8632000014)</td>\n",
       "    </tr>\n",
       "  </tbody>\n",
       "</table>\n",
       "</div>"
      ],
      "text/plain": [
       "              ADDRESS           FAX                                 GRADES  \\\n",
       "0   120 Fisher Avenue  617-566-2373                         05,06,07,08,09   \n",
       "1     160 Joan Street  413-783-2555  K,01,02,03,04,05,06,07,08,09,10,11,12   \n",
       "2  45 Congress Street  978-744-7246                   06,07,08,09,10,11,12   \n",
       "3      51 Gage Street  508-713-0956              K,01,02,03,04,05,06,07,08   \n",
       "4   23 Leonard Street  617-474-7957                               06,07,08   \n",
       "\n",
       "                                                NAME         PHONE  \\\n",
       "0                 Roxbury Preparatory Charter School  617-566-2361   \n",
       "1                 Sabis International Charter School  413-783-2600   \n",
       "2                       Salem Academy Charter School  978-744-2105   \n",
       "3                         Seven Hills Charter School  508-799-7500   \n",
       "4  Helen Y Davis Leadership Academy Charter Publi...  617-474-7950   \n",
       "\n",
       "            PRINCIPAL     SCHID STATE         TOWN    TOWN_MAIL TYPE  \\\n",
       "0           Anna Hall  04840505    MA       BOSTON      Roxbury  CHA   \n",
       "1        Karen Reuter  04410505    MA  SPRINGFIELD  Springfield  CHA   \n",
       "2  Stephanie Callahan  04850485    MA        SALEM        Salem  CHA   \n",
       "3       Michael Barth  04860105    MA    WORCESTER    Worcester  CHA   \n",
       "4    Karmala Sherwood  04190305    MA       BOSTON       Boston  CHA   \n",
       "\n",
       "  TYPE_DESC TYPE_DESC2    ZIP                                     geometry  \n",
       "0   Charter       None  02120          POINT (232543.25 897533.5885000005)  \n",
       "1   Charter       None  01129  POINT (118655.9209999964 875474.0989000015)  \n",
       "2   Charter       None  01970        POINT (250203.3103 918751.5731999986)  \n",
       "3   Charter       None  01605  POINT (176099.2556999996 890610.6473999992)  \n",
       "4   Charter       None  02122  POINT (236389.9209999964 894627.8632000014)  "
      ]
     },
     "execution_count": 6,
     "metadata": {},
     "output_type": "execute_result"
    }
   ],
   "source": [
    "schools.head()"
   ]
  },
  {
   "cell_type": "code",
   "execution_count": 7,
   "metadata": {
    "collapsed": false
   },
   "outputs": [
    {
     "data": {
      "text/html": [
       "<div>\n",
       "<table border=\"1\" class=\"dataframe\">\n",
       "  <thead>\n",
       "    <tr style=\"text-align: right;\">\n",
       "      <th></th>\n",
       "      <th>AREA_ACRES</th>\n",
       "      <th>COUNTY</th>\n",
       "      <th>FIPS_ID</th>\n",
       "      <th>OBJECTID</th>\n",
       "      <th>SHAPE_AREA</th>\n",
       "      <th>SHAPE_LEN</th>\n",
       "      <th>geometry</th>\n",
       "    </tr>\n",
       "  </thead>\n",
       "  <tbody>\n",
       "    <tr>\n",
       "      <th>0</th>\n",
       "      <td>316205.8</td>\n",
       "      <td>ESSEX</td>\n",
       "      <td>25009</td>\n",
       "      <td>1</td>\n",
       "      <td>1.279634e+09</td>\n",
       "      <td>480777.401542</td>\n",
       "      <td>POLYGON ((242115.88 912141.38, 242104.67 91217...</td>\n",
       "    </tr>\n",
       "    <tr>\n",
       "      <th>1</th>\n",
       "      <td>119.1</td>\n",
       "      <td>ESSEX</td>\n",
       "      <td>25009</td>\n",
       "      <td>2</td>\n",
       "      <td>4.818999e+05</td>\n",
       "      <td>3058.496339</td>\n",
       "      <td>POLYGON ((254695.81 950209.75, 254577.41 95019...</td>\n",
       "    </tr>\n",
       "    <tr>\n",
       "      <th>2</th>\n",
       "      <td>31.5</td>\n",
       "      <td>ESSEX</td>\n",
       "      <td>25009</td>\n",
       "      <td>3</td>\n",
       "      <td>1.273319e+05</td>\n",
       "      <td>1437.299536</td>\n",
       "      <td>POLYGON ((255037.72 950436, 255118.27 950548.3...</td>\n",
       "    </tr>\n",
       "    <tr>\n",
       "      <th>3</th>\n",
       "      <td>1.3</td>\n",
       "      <td>ESSEX</td>\n",
       "      <td>25009</td>\n",
       "      <td>4</td>\n",
       "      <td>5.383679e+03</td>\n",
       "      <td>318.295723</td>\n",
       "      <td>POLYGON ((255527.28 949923.9399999999, 255467....</td>\n",
       "    </tr>\n",
       "    <tr>\n",
       "      <th>4</th>\n",
       "      <td>7.1</td>\n",
       "      <td>ESSEX</td>\n",
       "      <td>25009</td>\n",
       "      <td>5</td>\n",
       "      <td>2.857241e+04</td>\n",
       "      <td>884.568271</td>\n",
       "      <td>POLYGON ((256263.34 946235.4399999999, 256199....</td>\n",
       "    </tr>\n",
       "  </tbody>\n",
       "</table>\n",
       "</div>"
      ],
      "text/plain": [
       "   AREA_ACRES COUNTY  FIPS_ID  OBJECTID    SHAPE_AREA      SHAPE_LEN  \\\n",
       "0    316205.8  ESSEX    25009         1  1.279634e+09  480777.401542   \n",
       "1       119.1  ESSEX    25009         2  4.818999e+05    3058.496339   \n",
       "2        31.5  ESSEX    25009         3  1.273319e+05    1437.299536   \n",
       "3         1.3  ESSEX    25009         4  5.383679e+03     318.295723   \n",
       "4         7.1  ESSEX    25009         5  2.857241e+04     884.568271   \n",
       "\n",
       "                                            geometry  \n",
       "0  POLYGON ((242115.88 912141.38, 242104.67 91217...  \n",
       "1  POLYGON ((254695.81 950209.75, 254577.41 95019...  \n",
       "2  POLYGON ((255037.72 950436, 255118.27 950548.3...  \n",
       "3  POLYGON ((255527.28 949923.9399999999, 255467....  \n",
       "4  POLYGON ((256263.34 946235.4399999999, 256199....  "
      ]
     },
     "execution_count": 7,
     "metadata": {},
     "output_type": "execute_result"
    }
   ],
   "source": [
    "counties.head()"
   ]
  },
  {
   "cell_type": "code",
   "execution_count": 8,
   "metadata": {
    "collapsed": false
   },
   "outputs": [],
   "source": [
    "schools_for_join = schools[['geometry', 'NAME', 'SCHID', 'TOWN']]\n",
    "counties_for_join = counties[['geometry', 'COUNTY']]\n",
    "\n",
    "school_counties = gpd.sjoin(schools_for_join, counties_for_join, how=\"left\", op='within')"
   ]
  },
  {
   "cell_type": "code",
   "execution_count": 9,
   "metadata": {
    "collapsed": false
   },
   "outputs": [
    {
     "data": {
      "text/html": [
       "<div>\n",
       "<table border=\"1\" class=\"dataframe\">\n",
       "  <thead>\n",
       "    <tr style=\"text-align: right;\">\n",
       "      <th></th>\n",
       "      <th>geometry</th>\n",
       "      <th>NAME</th>\n",
       "      <th>SCHID</th>\n",
       "      <th>TOWN</th>\n",
       "      <th>index_right</th>\n",
       "      <th>COUNTY</th>\n",
       "    </tr>\n",
       "  </thead>\n",
       "  <tbody>\n",
       "    <tr>\n",
       "      <th>0</th>\n",
       "      <td>POINT (232543.25 897533.5885000005)</td>\n",
       "      <td>Roxbury Preparatory Charter School</td>\n",
       "      <td>04840505</td>\n",
       "      <td>BOSTON</td>\n",
       "      <td>75</td>\n",
       "      <td>SUFFOLK</td>\n",
       "    </tr>\n",
       "    <tr>\n",
       "      <th>1</th>\n",
       "      <td>POINT (118655.9209999964 875474.0989000015)</td>\n",
       "      <td>Sabis International Charter School</td>\n",
       "      <td>04410505</td>\n",
       "      <td>SPRINGFIELD</td>\n",
       "      <td>79</td>\n",
       "      <td>HAMPDEN</td>\n",
       "    </tr>\n",
       "    <tr>\n",
       "      <th>2</th>\n",
       "      <td>POINT (250203.3103 918751.5731999986)</td>\n",
       "      <td>Salem Academy Charter School</td>\n",
       "      <td>04850485</td>\n",
       "      <td>SALEM</td>\n",
       "      <td>0</td>\n",
       "      <td>ESSEX</td>\n",
       "    </tr>\n",
       "    <tr>\n",
       "      <th>3</th>\n",
       "      <td>POINT (176099.2556999996 890610.6473999992)</td>\n",
       "      <td>Seven Hills Charter School</td>\n",
       "      <td>04860105</td>\n",
       "      <td>WORCESTER</td>\n",
       "      <td>22</td>\n",
       "      <td>WORCESTER</td>\n",
       "    </tr>\n",
       "    <tr>\n",
       "      <th>4</th>\n",
       "      <td>POINT (236389.9209999964 894627.8632000014)</td>\n",
       "      <td>Helen Y Davis Leadership Academy Charter Publi...</td>\n",
       "      <td>04190305</td>\n",
       "      <td>BOSTON</td>\n",
       "      <td>75</td>\n",
       "      <td>SUFFOLK</td>\n",
       "    </tr>\n",
       "  </tbody>\n",
       "</table>\n",
       "</div>"
      ],
      "text/plain": [
       "                                      geometry  \\\n",
       "0          POINT (232543.25 897533.5885000005)   \n",
       "1  POINT (118655.9209999964 875474.0989000015)   \n",
       "2        POINT (250203.3103 918751.5731999986)   \n",
       "3  POINT (176099.2556999996 890610.6473999992)   \n",
       "4  POINT (236389.9209999964 894627.8632000014)   \n",
       "\n",
       "                                                NAME     SCHID         TOWN  \\\n",
       "0                 Roxbury Preparatory Charter School  04840505       BOSTON   \n",
       "1                 Sabis International Charter School  04410505  SPRINGFIELD   \n",
       "2                       Salem Academy Charter School  04850485        SALEM   \n",
       "3                         Seven Hills Charter School  04860105    WORCESTER   \n",
       "4  Helen Y Davis Leadership Academy Charter Publi...  04190305       BOSTON   \n",
       "\n",
       "   index_right     COUNTY  \n",
       "0           75    SUFFOLK  \n",
       "1           79    HAMPDEN  \n",
       "2            0      ESSEX  \n",
       "3           22  WORCESTER  \n",
       "4           75    SUFFOLK  "
      ]
     },
     "execution_count": 9,
     "metadata": {},
     "output_type": "execute_result"
    }
   ],
   "source": [
    "school_counties.head()"
   ]
  },
  {
   "cell_type": "code",
   "execution_count": 10,
   "metadata": {
    "collapsed": false
   },
   "outputs": [
    {
     "data": {
      "text/plain": [
       "MIDDLESEX     540\n",
       "WORCESTER     330\n",
       "ESSEX         303\n",
       "NORFOLK       265\n",
       "SUFFOLK       230\n",
       "HAMPDEN       200\n",
       "BRISTOL       196\n",
       "PLYMOUTH      168\n",
       "BARNSTABLE     72\n",
       "BERKSHIRE      71\n",
       "HAMPSHIRE      71\n",
       "FRANKLIN       51\n",
       "DUKES           9\n",
       "NANTUCKET       5\n",
       "Name: COUNTY, dtype: int64"
      ]
     },
     "execution_count": 10,
     "metadata": {},
     "output_type": "execute_result"
    }
   ],
   "source": [
    "school_counties['COUNTY'].value_counts()"
   ]
  },
  {
   "cell_type": "code",
   "execution_count": 11,
   "metadata": {
    "collapsed": false
   },
   "outputs": [
    {
     "data": {
      "image/png": "[encoded data removed]",
      "text/plain": [
       "<matplotlib.figure.Figure at 0x11054dd10>"
      ]
     },
     "metadata": {},
     "output_type": "display_data"
    }
   ],
   "source": [
    "%matplotlib inline\n",
    "school_counties.plot(column='COUNTY');"
   ]
  },
  {
   "cell_type": "code",
   "execution_count": null,
   "metadata": {
    "collapsed": true
   },
   "outputs": [],
   "source": []
  }
 ],
 "metadata": {
  "anaconda-cloud": {},
  "kernelspec": {
   "display_name": "Python [conda root]",
   "language": "python",
   "name": "conda-root-py"
  },
  "language_info": {
   "codemirror_mode": {
    "name": "ipython",
    "version": 2
   },
   "file_extension": ".py",
   "mimetype": "text/x-python",
   "name": "python",
   "nbconvert_exporter": "python",
   "pygments_lexer": "ipython2",
   "version": "2.7.12"
  }
 },
 "nbformat": 4,
 "nbformat_minor": 1
}
